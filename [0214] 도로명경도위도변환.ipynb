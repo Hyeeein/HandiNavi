{
 "cells": [
  {
   "cell_type": "code",
   "execution_count": 28,
   "id": "d477786f",
   "metadata": {},
   "outputs": [],
   "source": [
    "import pandas as pd"
   ]
  },
  {
   "cell_type": "code",
   "execution_count": 29,
   "id": "b1261eef",
   "metadata": {},
   "outputs": [
    {
     "name": "stdout",
     "output_type": "stream",
     "text": [
      "   고유번호         시설명  담당구                   주소           연락처  \\\n",
      "0   720     신당동 우체국   중구        서울시 중구 다동길 11  02-2236-0606   \n",
      "1  2747      개명초등학교  구로구  서울시 구로구 개봉로1다길 16-9  02-2684-5117   \n",
      "2  2749      토성초등학교  송파구    서울시 송파구 풍성로20길 44   02-475-5036   \n",
      "3  3376  숙명 여자 고등학교  강남구   서울시 강남구 남부순환로 2807  02-3462-5011   \n",
      "4  3341    명일여자고등학교  강동구      서울시 강동구 명일로 350   02-481-8191   \n",
      "\n",
      "                        홈페이지  추천수 주출입구 접근로 여부 장애인 전용 주차구역 여부 주출입구 높이차이 제거 여부  \\\n",
      "0                        NaN    0           Y              N               Y   \n",
      "1        www.kaemyong.es.kr/    0           Y              Y               N   \n",
      "2          www.stosung.es.kr    0           Y              Y               Y   \n",
      "3        www.sookmyung.hs.kr    0           Y              Y               Y   \n",
      "4  http://www.myungil.hs.kr/    0           N              Y               N   \n",
      "\n",
      "  장애인용 승강기 여부 장애인 화장실 여부 장애인용 객실 이용가능 여부 장애인용 관람석 이용가능 여부 장애인 매표소 여부  \\\n",
      "0           N          N               N                N          N   \n",
      "1           N          Y               N                N          N   \n",
      "2           N          N               N                N          N   \n",
      "3           Y          Y               N                N          N   \n",
      "4           Y          N               N                N          N   \n",
      "\n",
      "  시각장애인 편의서비스 여부 청각장애인 편의서비스 여부 안내 서비스 여부 휠체어 대여 여부  \n",
      "0              N              N         N         N  \n",
      "1              N              N         N         N  \n",
      "2              N              N         N         N  \n",
      "3              N              N         N         N  \n",
      "4              N              N         N         N  \n"
     ]
    }
   ],
   "source": [
    "# csv 파일 불러오기\n",
    "csv = pd.read_csv('서울특별시 장애인 관광편의시설 정보.csv', encoding='cp949')\n",
    "print(csv.head())"
   ]
  },
  {
   "cell_type": "code",
   "execution_count": 42,
   "id": "84d55508",
   "metadata": {},
   "outputs": [
    {
     "name": "stdout",
     "output_type": "stream",
     "text": [
      "0          서울시 중구 다동길 11\n",
      "1    서울시 구로구 개봉로1다길 16-9\n",
      "2      서울시 송파구 풍성로20길 44\n",
      "3     서울시 강남구 남부순환로 2807\n",
      "4        서울시 강동구 명일로 350\n",
      "Name: 주소, dtype: object\n"
     ]
    }
   ],
   "source": [
    "# 데이터프레임 주소값 추출\n",
    "address = csv['주소']\n",
    "print(address.head())"
   ]
  },
  {
   "cell_type": "code",
   "execution_count": 43,
   "id": "74d6355f",
   "metadata": {},
   "outputs": [
    {
     "name": "stderr",
     "output_type": "stream",
     "text": [
      "<ipython-input-43-b078f1dfd4c0>:4: SettingWithCopyWarning: \n",
      "A value is trying to be set on a copy of a slice from a DataFrame\n",
      "\n",
      "See the caveats in the documentation: https://pandas.pydata.org/pandas-docs/stable/user_guide/indexing.html#returning-a-view-versus-a-copy\n",
      "  address[i] = \" \".join(a[0:4])\n"
     ]
    },
    {
     "name": "stdout",
     "output_type": "stream",
     "text": [
      "0             서울시 중구 다동길 11\n",
      "1       서울시 구로구 개봉로1다길 16-9\n",
      "2         서울시 송파구 풍성로20길 44\n",
      "3        서울시 강남구 남부순환로 2807\n",
      "4           서울시 강동구 명일로 350\n",
      "               ...         \n",
      "2543    서울시 동작구 여의대방로44길 20\n",
      "2544    서울시 관악구 남부순환로145길 6\n",
      "2545       서울시 관악구 당곡길 45-3\n",
      "2546        서울시 은평구 은평로 210\n",
      "2547        서울시 노원구 덕릉로 541\n",
      "Name: 주소, Length: 2548, dtype: object\n"
     ]
    }
   ],
   "source": [
    "# 주소 데이터 깔끔하게 다듬기\n",
    "for i in range(len(address)):\n",
    "    a = address[i].split(' ')\n",
    "    address[i] = \" \".join(a[0:4])\n",
    "print(address)"
   ]
  },
  {
   "cell_type": "code",
   "execution_count": 44,
   "id": "b48edbcc",
   "metadata": {},
   "outputs": [],
   "source": [
    "# 도로명주소 위도, 경도 값으로 바꿔주기\n",
    "from geopy.geocoders import Nominatim\n",
    "geo_local = Nominatim(user_agent='South Korea')"
   ]
  },
  {
   "cell_type": "code",
   "execution_count": 45,
   "id": "c0d35cc5",
   "metadata": {},
   "outputs": [],
   "source": [
    "# 위도, 경도 반환하는 함수\n",
    "def geocoding(address):\n",
    "    geo = geo_local.geocode(address)\n",
    "    x_y = [geo.latitude, geo.longitude]\n",
    "    return x_y"
   ]
  },
  {
   "cell_type": "code",
   "execution_count": 41,
   "id": "e313ab30",
   "metadata": {},
   "outputs": [
    {
     "ename": "AttributeError",
     "evalue": "'NoneType' object has no attribute 'latitude'",
     "output_type": "error",
     "traceback": [
      "\u001b[1;31m---------------------------------------------------------------------------\u001b[0m",
      "\u001b[1;31mAttributeError\u001b[0m                            Traceback (most recent call last)",
      "\u001b[1;32m<ipython-input-41-1914be0ef932>\u001b[0m in \u001b[0;36m<module>\u001b[1;34m\u001b[0m\n\u001b[0;32m      4\u001b[0m \u001b[1;33m\u001b[0m\u001b[0m\n\u001b[0;32m      5\u001b[0m \u001b[1;32mfor\u001b[0m \u001b[0mi\u001b[0m \u001b[1;32min\u001b[0m \u001b[0maddress\u001b[0m\u001b[1;33m:\u001b[0m\u001b[1;33m\u001b[0m\u001b[1;33m\u001b[0m\u001b[0m\n\u001b[1;32m----> 6\u001b[1;33m     \u001b[0mlatitude\u001b[0m\u001b[1;33m.\u001b[0m\u001b[0mappend\u001b[0m\u001b[1;33m(\u001b[0m\u001b[0mgeocoding\u001b[0m\u001b[1;33m(\u001b[0m\u001b[0mi\u001b[0m\u001b[1;33m)\u001b[0m\u001b[1;33m[\u001b[0m\u001b[1;36m0\u001b[0m\u001b[1;33m]\u001b[0m\u001b[1;33m)\u001b[0m\u001b[1;33m\u001b[0m\u001b[1;33m\u001b[0m\u001b[0m\n\u001b[0m\u001b[0;32m      7\u001b[0m     \u001b[0mlongitude\u001b[0m\u001b[1;33m.\u001b[0m\u001b[0mappend\u001b[0m\u001b[1;33m(\u001b[0m\u001b[0mgeocoding\u001b[0m\u001b[1;33m(\u001b[0m\u001b[0mi\u001b[0m\u001b[1;33m)\u001b[0m\u001b[1;33m[\u001b[0m\u001b[1;36m1\u001b[0m\u001b[1;33m]\u001b[0m\u001b[1;33m)\u001b[0m\u001b[1;33m\u001b[0m\u001b[1;33m\u001b[0m\u001b[0m\n",
      "\u001b[1;32m<ipython-input-40-30d902e4130d>\u001b[0m in \u001b[0;36mgeocoding\u001b[1;34m(address)\u001b[0m\n\u001b[0;32m      2\u001b[0m \u001b[1;32mdef\u001b[0m \u001b[0mgeocoding\u001b[0m\u001b[1;33m(\u001b[0m\u001b[0maddress\u001b[0m\u001b[1;33m)\u001b[0m\u001b[1;33m:\u001b[0m\u001b[1;33m\u001b[0m\u001b[1;33m\u001b[0m\u001b[0m\n\u001b[0;32m      3\u001b[0m     \u001b[0mgeo\u001b[0m \u001b[1;33m=\u001b[0m \u001b[0mgeo_local\u001b[0m\u001b[1;33m.\u001b[0m\u001b[0mgeocode\u001b[0m\u001b[1;33m(\u001b[0m\u001b[0maddress\u001b[0m\u001b[1;33m)\u001b[0m\u001b[1;33m\u001b[0m\u001b[1;33m\u001b[0m\u001b[0m\n\u001b[1;32m----> 4\u001b[1;33m     \u001b[0mx_y\u001b[0m \u001b[1;33m=\u001b[0m \u001b[1;33m[\u001b[0m\u001b[0mgeo\u001b[0m\u001b[1;33m.\u001b[0m\u001b[0mlatitude\u001b[0m\u001b[1;33m,\u001b[0m \u001b[0mgeo\u001b[0m\u001b[1;33m.\u001b[0m\u001b[0mlongitude\u001b[0m\u001b[1;33m]\u001b[0m\u001b[1;33m\u001b[0m\u001b[1;33m\u001b[0m\u001b[0m\n\u001b[0m\u001b[0;32m      5\u001b[0m     \u001b[1;32mreturn\u001b[0m \u001b[0mx_y\u001b[0m\u001b[1;33m\u001b[0m\u001b[1;33m\u001b[0m\u001b[0m\n",
      "\u001b[1;31mAttributeError\u001b[0m: 'NoneType' object has no attribute 'latitude'"
     ]
    }
   ],
   "source": [
    "# 주소를 위, 경도 값으로 변환하기\n",
    "latitude = []\n",
    "longitude = []\n",
    "\n",
    "for i in address:\n",
    "    latitude.append(geocoding(i)[0])\n",
    "    longitude.append(geocoding(i)[1])"
   ]
  },
  {
   "cell_type": "code",
   "execution_count": null,
   "id": "b8acea1a",
   "metadata": {},
   "outputs": [],
   "source": [
    "# Dataframe 만들기\n",
    "address_df = pd.DataFrame({'위도':latitude, '경도':longitude})\n",
    "\n",
    "# df 저장\n",
    "address_df.to_csv('서울특별시 장애인 관광편의시설 정보(변환ver).csv')\n",
    "print(address_df.head())"
   ]
  }
 ],
 "metadata": {
  "kernelspec": {
   "display_name": "Python 3",
   "language": "python",
   "name": "python3"
  },
  "language_info": {
   "codemirror_mode": {
    "name": "ipython",
    "version": 3
   },
   "file_extension": ".py",
   "mimetype": "text/x-python",
   "name": "python",
   "nbconvert_exporter": "python",
   "pygments_lexer": "ipython3",
   "version": "3.8.8"
  }
 },
 "nbformat": 4,
 "nbformat_minor": 5
}
