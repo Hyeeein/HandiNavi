{
 "cells": [
  {
   "cell_type": "code",
   "execution_count": 45,
   "id": "9cd29bd8",
   "metadata": {},
   "outputs": [],
   "source": [
    "import pandas as pd\n",
    "import matplotlib.pyplot as plt"
   ]
  },
  {
   "cell_type": "code",
   "execution_count": 46,
   "id": "2cf44eb0",
   "metadata": {},
   "outputs": [
    {
     "data": {
      "text/html": [
       "<div>\n",
       "<style scoped>\n",
       "    .dataframe tbody tr th:only-of-type {\n",
       "        vertical-align: middle;\n",
       "    }\n",
       "\n",
       "    .dataframe tbody tr th {\n",
       "        vertical-align: top;\n",
       "    }\n",
       "\n",
       "    .dataframe thead th {\n",
       "        text-align: right;\n",
       "    }\n",
       "</style>\n",
       "<table border=\"1\" class=\"dataframe\">\n",
       "  <thead>\n",
       "    <tr style=\"text-align: right;\">\n",
       "      <th></th>\n",
       "      <th>기간</th>\n",
       "      <th>자치구</th>\n",
       "      <th>합계</th>\n",
       "      <th>합계.1</th>\n",
       "      <th>합계.2</th>\n",
       "      <th>장애유형</th>\n",
       "      <th>장애유형.1</th>\n",
       "      <th>장애유형.2</th>\n",
       "      <th>장애유형.3</th>\n",
       "      <th>장애유형.4</th>\n",
       "      <th>...</th>\n",
       "      <th>장애유형.35</th>\n",
       "      <th>장애유형.36</th>\n",
       "      <th>장애유형.37</th>\n",
       "      <th>장애유형.38</th>\n",
       "      <th>장애유형.39</th>\n",
       "      <th>장애유형.40</th>\n",
       "      <th>장애유형.41</th>\n",
       "      <th>장애유형.42</th>\n",
       "      <th>장애유형.43</th>\n",
       "      <th>장애유형.44</th>\n",
       "    </tr>\n",
       "  </thead>\n",
       "  <tbody>\n",
       "    <tr>\n",
       "      <th>0</th>\n",
       "      <td>기간</td>\n",
       "      <td>자치구</td>\n",
       "      <td>합계</td>\n",
       "      <td>합계</td>\n",
       "      <td>합계</td>\n",
       "      <td>지체</td>\n",
       "      <td>지체</td>\n",
       "      <td>지체</td>\n",
       "      <td>뇌병변</td>\n",
       "      <td>뇌병변</td>\n",
       "      <td>...</td>\n",
       "      <td>간</td>\n",
       "      <td>안면</td>\n",
       "      <td>안면</td>\n",
       "      <td>안면</td>\n",
       "      <td>장루요루</td>\n",
       "      <td>장루요루</td>\n",
       "      <td>장루요루</td>\n",
       "      <td>뇌전증</td>\n",
       "      <td>뇌전증</td>\n",
       "      <td>뇌전증</td>\n",
       "    </tr>\n",
       "    <tr>\n",
       "      <th>1</th>\n",
       "      <td>기간</td>\n",
       "      <td>자치구</td>\n",
       "      <td>계</td>\n",
       "      <td>남자</td>\n",
       "      <td>여자</td>\n",
       "      <td>계</td>\n",
       "      <td>남자</td>\n",
       "      <td>여자</td>\n",
       "      <td>계</td>\n",
       "      <td>남자</td>\n",
       "      <td>...</td>\n",
       "      <td>여자</td>\n",
       "      <td>계</td>\n",
       "      <td>남자</td>\n",
       "      <td>여자</td>\n",
       "      <td>계</td>\n",
       "      <td>남자</td>\n",
       "      <td>여자</td>\n",
       "      <td>계</td>\n",
       "      <td>남자</td>\n",
       "      <td>여자</td>\n",
       "    </tr>\n",
       "    <tr>\n",
       "      <th>2</th>\n",
       "      <td>2020</td>\n",
       "      <td>서울시</td>\n",
       "      <td>394,190</td>\n",
       "      <td>228,386</td>\n",
       "      <td>165,804</td>\n",
       "      <td>172,606</td>\n",
       "      <td>97,303</td>\n",
       "      <td>75,303</td>\n",
       "      <td>40,905</td>\n",
       "      <td>24,244</td>\n",
       "      <td>...</td>\n",
       "      <td>803</td>\n",
       "      <td>378</td>\n",
       "      <td>205</td>\n",
       "      <td>173</td>\n",
       "      <td>2,901</td>\n",
       "      <td>1,796</td>\n",
       "      <td>1,105</td>\n",
       "      <td>1,251</td>\n",
       "      <td>685</td>\n",
       "      <td>566</td>\n",
       "    </tr>\n",
       "    <tr>\n",
       "      <th>3</th>\n",
       "      <td>2020</td>\n",
       "      <td>종로구</td>\n",
       "      <td>6,015</td>\n",
       "      <td>3,488</td>\n",
       "      <td>2,527</td>\n",
       "      <td>2,586</td>\n",
       "      <td>1,388</td>\n",
       "      <td>1,198</td>\n",
       "      <td>582</td>\n",
       "      <td>371</td>\n",
       "      <td>...</td>\n",
       "      <td>12</td>\n",
       "      <td>7</td>\n",
       "      <td>4</td>\n",
       "      <td>3</td>\n",
       "      <td>31</td>\n",
       "      <td>21</td>\n",
       "      <td>10</td>\n",
       "      <td>11</td>\n",
       "      <td>4</td>\n",
       "      <td>7</td>\n",
       "    </tr>\n",
       "    <tr>\n",
       "      <th>4</th>\n",
       "      <td>2020</td>\n",
       "      <td>중구</td>\n",
       "      <td>5,700</td>\n",
       "      <td>3,282</td>\n",
       "      <td>2,418</td>\n",
       "      <td>2,572</td>\n",
       "      <td>1,391</td>\n",
       "      <td>1,181</td>\n",
       "      <td>565</td>\n",
       "      <td>367</td>\n",
       "      <td>...</td>\n",
       "      <td>9</td>\n",
       "      <td>5</td>\n",
       "      <td>2</td>\n",
       "      <td>3</td>\n",
       "      <td>40</td>\n",
       "      <td>26</td>\n",
       "      <td>14</td>\n",
       "      <td>21</td>\n",
       "      <td>12</td>\n",
       "      <td>9</td>\n",
       "    </tr>\n",
       "  </tbody>\n",
       "</table>\n",
       "<p>5 rows × 50 columns</p>\n",
       "</div>"
      ],
      "text/plain": [
       "     기간  자치구       합계     합계.1     합계.2     장애유형  장애유형.1  장애유형.2  장애유형.3  \\\n",
       "0    기간  자치구       합계       합계       합계       지체      지체      지체     뇌병변   \n",
       "1    기간  자치구        계       남자       여자        계      남자      여자       계   \n",
       "2  2020  서울시  394,190  228,386  165,804  172,606  97,303  75,303  40,905   \n",
       "3  2020  종로구    6,015    3,488    2,527    2,586   1,388   1,198     582   \n",
       "4  2020   중구    5,700    3,282    2,418    2,572   1,391   1,181     565   \n",
       "\n",
       "   장애유형.4  ... 장애유형.35 장애유형.36 장애유형.37 장애유형.38 장애유형.39 장애유형.40 장애유형.41  \\\n",
       "0     뇌병변  ...       간      안면      안면      안면    장루요루    장루요루    장루요루   \n",
       "1      남자  ...      여자       계      남자      여자       계      남자      여자   \n",
       "2  24,244  ...     803     378     205     173   2,901   1,796   1,105   \n",
       "3     371  ...      12       7       4       3      31      21      10   \n",
       "4     367  ...       9       5       2       3      40      26      14   \n",
       "\n",
       "  장애유형.42 장애유형.43 장애유형.44  \n",
       "0     뇌전증     뇌전증     뇌전증  \n",
       "1       계      남자      여자  \n",
       "2   1,251     685     566  \n",
       "3      11       4       7  \n",
       "4      21      12       9  \n",
       "\n",
       "[5 rows x 50 columns]"
      ]
     },
     "execution_count": 46,
     "metadata": {},
     "output_type": "execute_result"
    }
   ],
   "source": [
    "# 서울시 장애인 총 인구 수 불러오기\n",
    "disabled = pd.read_csv('[데이터] 서울시 내 각 구별 장애인 수 현황.csv')\n",
    "disabled.head()"
   ]
  },
  {
   "cell_type": "code",
   "execution_count": 47,
   "id": "8165f5d1",
   "metadata": {},
   "outputs": [
    {
     "data": {
      "text/plain": [
       "'394190'"
      ]
     },
     "execution_count": 47,
     "metadata": {},
     "output_type": "execute_result"
    }
   ],
   "source": [
    "# 서울시 장애인 총 인구 수\n",
    "disabled_seoul = disabled['합계'].values[2].replace(',', '')\n",
    "disabled_seoul "
   ]
  },
  {
   "cell_type": "code",
   "execution_count": 48,
   "id": "3a97de63",
   "metadata": {},
   "outputs": [
    {
     "data": {
      "text/html": [
       "<div>\n",
       "<style scoped>\n",
       "    .dataframe tbody tr th:only-of-type {\n",
       "        vertical-align: middle;\n",
       "    }\n",
       "\n",
       "    .dataframe tbody tr th {\n",
       "        vertical-align: top;\n",
       "    }\n",
       "\n",
       "    .dataframe thead th {\n",
       "        text-align: right;\n",
       "    }\n",
       "</style>\n",
       "<table border=\"1\" class=\"dataframe\">\n",
       "  <thead>\n",
       "    <tr style=\"text-align: right;\">\n",
       "      <th></th>\n",
       "      <th>총 대수</th>\n",
       "      <th>광역버스</th>\n",
       "      <th>저상버스</th>\n",
       "      <th>보유율</th>\n",
       "    </tr>\n",
       "    <tr>\n",
       "      <th>구분</th>\n",
       "      <th></th>\n",
       "      <th></th>\n",
       "      <th></th>\n",
       "      <th></th>\n",
       "    </tr>\n",
       "  </thead>\n",
       "  <tbody>\n",
       "    <tr>\n",
       "      <th>노선 수</th>\n",
       "      <td>354</td>\n",
       "      <td>10</td>\n",
       "      <td>286</td>\n",
       "      <td>83.1</td>\n",
       "    </tr>\n",
       "    <tr>\n",
       "      <th>운행대수</th>\n",
       "      <td>7393</td>\n",
       "      <td>229</td>\n",
       "      <td>4272</td>\n",
       "      <td>59.6</td>\n",
       "    </tr>\n",
       "  </tbody>\n",
       "</table>\n",
       "</div>"
      ],
      "text/plain": [
       "      총 대수  광역버스  저상버스   보유율\n",
       "구분                          \n",
       "노선 수   354    10   286  83.1\n",
       "운행대수  7393   229  4272  59.6"
      ]
     },
     "execution_count": 48,
     "metadata": {},
     "output_type": "execute_result"
    }
   ],
   "source": [
    "# 서울 저상버스 운행 노선 수, 운행대수 불러오기\n",
    "bus = pd.read_csv('[데이터] 서울특별시_저상버스 운행 노선수 및 운행대수.csv', index_col='구분', encoding='cp949')\n",
    "bus"
   ]
  },
  {
   "cell_type": "code",
   "execution_count": 84,
   "id": "eefca9ad",
   "metadata": {},
   "outputs": [
    {
     "data": {
      "text/html": [
       "<div>\n",
       "<style scoped>\n",
       "    .dataframe tbody tr th:only-of-type {\n",
       "        vertical-align: middle;\n",
       "    }\n",
       "\n",
       "    .dataframe tbody tr th {\n",
       "        vertical-align: top;\n",
       "    }\n",
       "\n",
       "    .dataframe thead th {\n",
       "        text-align: right;\n",
       "    }\n",
       "</style>\n",
       "<table border=\"1\" class=\"dataframe\">\n",
       "  <thead>\n",
       "    <tr style=\"text-align: right;\">\n",
       "      <th></th>\n",
       "      <th>총 대수</th>\n",
       "      <th>광역버스</th>\n",
       "      <th>저상버스</th>\n",
       "    </tr>\n",
       "    <tr>\n",
       "      <th>구분</th>\n",
       "      <th></th>\n",
       "      <th></th>\n",
       "      <th></th>\n",
       "    </tr>\n",
       "  </thead>\n",
       "  <tbody>\n",
       "    <tr>\n",
       "      <th>노선 수</th>\n",
       "      <td>8.980441</td>\n",
       "      <td>0.253685</td>\n",
       "      <td>7.255384</td>\n",
       "    </tr>\n",
       "    <tr>\n",
       "      <th>운행대수</th>\n",
       "      <td>187.549151</td>\n",
       "      <td>5.809381</td>\n",
       "      <td>108.374134</td>\n",
       "    </tr>\n",
       "  </tbody>\n",
       "</table>\n",
       "</div>"
      ],
      "text/plain": [
       "            총 대수      광역버스        저상버스\n",
       "구분                                    \n",
       "노선 수    8.980441  0.253685    7.255384\n",
       "운행대수  187.549151  5.809381  108.374134"
      ]
     },
     "execution_count": 84,
     "metadata": {},
     "output_type": "execute_result"
    }
   ],
   "source": [
    "# 분석에서 필요없는 '보유율' 열 삭제\n",
    "bus = bus.drop(columns=['보유율'], axis=1)\n",
    "bus\n",
    "\n",
    "# 총 대수, 광역버스, 저상버스를 서울 장애인 수로 나누기\n",
    "# 장애인 1만명 당 얼마만큼의 저상버스가 보급되어있는지 확인\n",
    "bus_supply = bus / int(disabled_seoul) * 10000\n",
    "bus_supply"
   ]
  },
  {
   "cell_type": "code",
   "execution_count": 86,
   "id": "4041f7d7",
   "metadata": {},
   "outputs": [
    {
     "data": {
      "text/html": [
       "<div>\n",
       "<style scoped>\n",
       "    .dataframe tbody tr th:only-of-type {\n",
       "        vertical-align: middle;\n",
       "    }\n",
       "\n",
       "    .dataframe tbody tr th {\n",
       "        vertical-align: top;\n",
       "    }\n",
       "\n",
       "    .dataframe thead th {\n",
       "        text-align: right;\n",
       "    }\n",
       "</style>\n",
       "<table border=\"1\" class=\"dataframe\">\n",
       "  <thead>\n",
       "    <tr style=\"text-align: right;\">\n",
       "      <th></th>\n",
       "      <th>total</th>\n",
       "      <th>red-bus(low-floor)</th>\n",
       "      <th>intra-city(low-floor)</th>\n",
       "    </tr>\n",
       "  </thead>\n",
       "  <tbody>\n",
       "    <tr>\n",
       "      <th>Number of routes</th>\n",
       "      <td>8.980441</td>\n",
       "      <td>0.253685</td>\n",
       "      <td>7.255384</td>\n",
       "    </tr>\n",
       "    <tr>\n",
       "      <th>The number of buses</th>\n",
       "      <td>187.549151</td>\n",
       "      <td>5.809381</td>\n",
       "      <td>108.374134</td>\n",
       "    </tr>\n",
       "  </tbody>\n",
       "</table>\n",
       "</div>"
      ],
      "text/plain": [
       "                          total  red-bus(low-floor)  intra-city(low-floor)\n",
       "Number of routes       8.980441            0.253685               7.255384\n",
       "The number of buses  187.549151            5.809381             108.374134"
      ]
     },
     "execution_count": 86,
     "metadata": {},
     "output_type": "execute_result"
    }
   ],
   "source": [
    "# 컬럼명, 로우명 영문으로 변경\n",
    "bus_supply.columns = ['total', 'red-bus(low-floor)', 'intra-city(low-floor)']\n",
    "bus_supply.index = ['Number of routes', 'The number of buses']\n",
    "bus_supply"
   ]
  },
  {
   "cell_type": "code",
   "execution_count": 87,
   "id": "d5b4fda3",
   "metadata": {},
   "outputs": [
    {
     "data": {
      "text/plain": [
       "<AxesSubplot:>"
      ]
     },
     "execution_count": 87,
     "metadata": {},
     "output_type": "execute_result"
    },
    {
     "data": {
      "image/png": "[encoded data removed]",
      "text/plain": [
       "<Figure size 432x288 with 1 Axes>"
      ]
     },
     "metadata": {
      "needs_background": "light"
     },
     "output_type": "display_data"
    },
    {
     "data": {
      "image/png": "[encoded data removed]",
      "text/plain": [
       "<Figure size 432x288 with 1 Axes>"
      ]
     },
     "metadata": {
      "needs_background": "light"
     },
     "output_type": "display_data"
    }
   ],
   "source": [
    "# 데이터 시각화 (막대그래프) - 로우별로 나타내기\n",
    "bus_supply_1 = bus_supply.drop(index=['The number of buses'], axis=0)\n",
    "bus_supply_2 = bus_supply.drop(index=['Number of routes'], axis=0)\n",
    "\n",
    "bus_supply_1.plot.bar(rot=0)  # rot=0은 아래 x축 라벨 수평으로 만들어줌\n",
    "bus_supply_2.plot.bar(rot=0)"
   ]
  },
  {
   "cell_type": "markdown",
   "id": "fa10eeb6",
   "metadata": {},
   "source": [
    "#### (1) Number of routes (노선수)\n",
    "\n",
    "- 장애인 1만명 당 이용할 수 있는 광역 저상버스의 노선 수는 1개도 되지 않음\n",
    "- 장애인 1만명 당 이용할 수 있는 시내 저상버스의 노선 수는 7.26개\n",
    "- 장애인 1만명 당 이용할 수 있는 서울 전체 노선 수가 9개라는 점에서 시내 저상버스의 노선 수는 보급이 잘 되고 있으나 광역버스는 턱없이 부족\n",
    "\n",
    "\n",
    "\n",
    "#### (2) The number of buses (운행대수)\n",
    "\n",
    "- 장애인 1만명 당 이용할 수 있는 광역 저상버스의 운행대수는 5.8대\n",
    "- 장애인 1만명 당 이용할 수 있는 시내 저상버스의 운행대수는 108.37대\n",
    "- 장애인 1만명 당 이용할 수 있는 서울 전체 버스의 운행대수가 187.55대라는 점에서 시내 저상버스는 절반보다 조금 많은 수치이고, 광역버스는 그에 비해 턱없이 부족한 숫자를 나타냄\n",
    "\n",
    "\n",
    "`결국, 장애인들이 버스를 이용할 때, 저상버스만 이용해야 한다면 2대 중 1대는 그냥 보내야 하고, 광역버스의 경우에는 턱없이 부족한 모습을 보이고 있음. 장애인들도 차별없이 대중교통을 이용하기 위해서는 충분한 저상버스 확립이 필요함`"
   ]
  },
  {
   "cell_type": "code",
   "execution_count": null,
   "id": "627ee059",
   "metadata": {},
   "outputs": [],
   "source": []
  }
 ],
 "metadata": {
  "kernelspec": {
   "display_name": "Python 3",
   "language": "python",
   "name": "python3"
  },
  "language_info": {
   "codemirror_mode": {
    "name": "ipython",
    "version": 3
   },
   "file_extension": ".py",
   "mimetype": "text/x-python",
   "name": "python",
   "nbconvert_exporter": "python",
   "pygments_lexer": "ipython3",
   "version": "3.8.8"
  }
 },
 "nbformat": 4,
 "nbformat_minor": 5
}
